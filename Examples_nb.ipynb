{
 "cells": [
  {
   "cell_type": "code",
   "execution_count": 1,
   "source": [
    "os.chdir(\"/mnt/c/Users/monique/Documents/Codes/gifs/\")"
   ],
   "outputs": [],
   "metadata": {}
  },
  {
   "cell_type": "code",
   "execution_count": 7,
   "source": [
    "from scatter_letters import sl"
   ],
   "outputs": [],
   "metadata": {}
  },
  {
   "cell_type": "code",
   "execution_count": 3,
   "source": [
    "# simple use\n",
    "sl.text_to_gif('data_')"
   ],
   "outputs": [
    {
     "output_type": "display_data",
     "data": {
      "application/vnd.jupyter.widget-view+json": {
       "version_major": 2,
       "version_minor": 0,
       "model_id": "23c1696d82f7460a940d627fcbfc894f"
      },
      "text/plain": [
       "Coordinates:   0%|          | 0/5 [00:00<?, ?it/s]"
      ]
     },
     "metadata": {}
    },
    {
     "output_type": "display_data",
     "data": {
      "application/vnd.jupyter.widget-view+json": {
       "version_major": 2,
       "version_minor": 0,
       "model_id": "da11d6d0c74e49b78f175a656a1a51ea"
      },
      "text/plain": [
       "Plotting:   0%|          | 0/5 [00:00<?, ?it/s]"
      ]
     },
     "metadata": {}
    },
    {
     "output_type": "display_data",
     "data": {
      "application/vnd.jupyter.widget-view+json": {
       "version_major": 2,
       "version_minor": 0,
       "model_id": "4464cd08396a4728a403b323d39e6bd6"
      },
      "text/plain": [
       "Frames:   0%|          | 0/25 [00:00<?, ?it/s]"
      ]
     },
     "metadata": {}
    },
    {
     "output_type": "display_data",
     "data": {
      "application/vnd.jupyter.widget-view+json": {
       "version_major": 2,
       "version_minor": 0,
       "model_id": "6671892f424d4167a9155429337d8164"
      },
      "text/plain": [
       "Frames:   0%|          | 0/25 [00:00<?, ?it/s]"
      ]
     },
     "metadata": {}
    },
    {
     "output_type": "display_data",
     "data": {
      "application/vnd.jupyter.widget-view+json": {
       "version_major": 2,
       "version_minor": 0,
       "model_id": "7685e6fd66fa42b89a734af411c3af5f"
      },
      "text/plain": [
       "Frames:   0%|          | 0/25 [00:00<?, ?it/s]"
      ]
     },
     "metadata": {}
    },
    {
     "output_type": "display_data",
     "data": {
      "application/vnd.jupyter.widget-view+json": {
       "version_major": 2,
       "version_minor": 0,
       "model_id": "d5e1691d041b48229040923fdd427d33"
      },
      "text/plain": [
       "Frames:   0%|          | 0/25 [00:00<?, ?it/s]"
      ]
     },
     "metadata": {}
    },
    {
     "output_type": "display_data",
     "data": {
      "application/vnd.jupyter.widget-view+json": {
       "version_major": 2,
       "version_minor": 0,
       "model_id": "883715210c614f969055fe12007e1f8b"
      },
      "text/plain": [
       "Frames:   0%|          | 0/25 [00:00<?, ?it/s]"
      ]
     },
     "metadata": {}
    },
    {
     "output_type": "display_data",
     "data": {
      "application/vnd.jupyter.widget-view+json": {
       "version_major": 2,
       "version_minor": 0,
       "model_id": "2ec29bd0cddc4a58b495cec210578152"
      },
      "text/plain": [
       "Gif:   0%|          | 0/155 [00:00<?, ?it/s]"
      ]
     },
     "metadata": {}
    },
    {
     "output_type": "display_data",
     "data": {
      "application/vnd.jupyter.widget-view+json": {
       "version_major": 2,
       "version_minor": 0,
       "model_id": "9511488c669d4e0d91b4cd9ea8b58881"
      },
      "text/plain": [
       "Removing Imgs:   0%|          | 0/125 [00:00<?, ?it/s]"
      ]
     },
     "metadata": {}
    },
    {
     "output_type": "stream",
     "name": "stdout",
     "text": [
      "DONE\n"
     ]
    }
   ],
   "metadata": {}
  },
  {
   "cell_type": "markdown",
   "source": [
    "![](output/movie.gif)"
   ],
   "metadata": {}
  },
  {
   "cell_type": "code",
   "execution_count": 13,
   "source": [
    "# all parameters\n",
    "sl.text_to_gif('a', # text to be converted to gif\n",
    "               out_path='output', # relative path to save temp files and output\n",
    "               repeat=True, # repeat first letter at the end\n",
    "               intensity=10, # more info below*\n",
    "               rand=True, # True=random points, false= evenly sparced\n",
    "               gif_name='movie', # name of the output file. -> movie.gif\n",
    "               n_frames=24, # number of frames in the transition\n",
    "               bg_color='#95A4AD', # background color\n",
    "               marker='o', # marker style\n",
    "               marker_color='#283F4E', # marker color \n",
    "               marker_size=10, # marker size\n",
    "               fps=24, # frames per second\n",
    "               alpha=1, # markers opacity\n",
    "               axis_on=True, # plot spines and grid\n",
    "               sort_coords=False, # sort points in the transition - options(False, 'x', 'y')\n",
    "               sort_coords_asc=True, # True - sort ascending / False - sort descending\n",
    "               in_path='./images/letters', # for custom input paths\n",
    "               hold_frames=5) # hold the complete letter for x frames\n",
    "\n",
    "# *intensity: \n",
    "# When plotting random points (rand=True), this is how many times it'll generate 500 points at the start (before applying the mask).\n",
    "# With randoms a higher intensity means more points.\n",
    "# When plotting evenly sparced points (rand=False), this is the distance between the points.\n",
    "# With even points a lower intensity means the points will be closer to each other, so more points are plotted."
   ],
   "outputs": [
    {
     "output_type": "display_data",
     "data": {
      "application/vnd.jupyter.widget-view+json": {
       "version_major": 2,
       "version_minor": 0,
       "model_id": "acdac2f08ead48fea77ab97113559720"
      },
      "text/plain": [
       "Coordinates:   0%|          | 0/7 [00:00<?, ?it/s]"
      ]
     },
     "metadata": {}
    },
    {
     "output_type": "display_data",
     "data": {
      "application/vnd.jupyter.widget-view+json": {
       "version_major": 2,
       "version_minor": 0,
       "model_id": "5d1a7f9ecb3f4771be07dcf4e677ac24"
      },
      "text/plain": [
       "Plotting:   0%|          | 0/2 [00:00<?, ?it/s]"
      ]
     },
     "metadata": {}
    },
    {
     "output_type": "display_data",
     "data": {
      "application/vnd.jupyter.widget-view+json": {
       "version_major": 2,
       "version_minor": 0,
       "model_id": "3d9d5b34b0bc4b89b1c0804de047df87"
      },
      "text/plain": [
       "Frames:   0%|          | 0/25 [00:00<?, ?it/s]"
      ]
     },
     "metadata": {}
    },
    {
     "output_type": "display_data",
     "data": {
      "application/vnd.jupyter.widget-view+json": {
       "version_major": 2,
       "version_minor": 0,
       "model_id": "d8b28c9c565043329be894e390fcbccc"
      },
      "text/plain": [
       "Frames:   0%|          | 0/25 [00:00<?, ?it/s]"
      ]
     },
     "metadata": {}
    },
    {
     "output_type": "display_data",
     "data": {
      "application/vnd.jupyter.widget-view+json": {
       "version_major": 2,
       "version_minor": 0,
       "model_id": "35bd8774833d4062822d9a6bc21af18b"
      },
      "text/plain": [
       "Gif:   0%|          | 0/65 [00:00<?, ?it/s]"
      ]
     },
     "metadata": {}
    },
    {
     "output_type": "display_data",
     "data": {
      "application/vnd.jupyter.widget-view+json": {
       "version_major": 2,
       "version_minor": 0,
       "model_id": "cd86e781083949428c7ca4efcec5c8bb"
      },
      "text/plain": [
       "Removing Imgs:   0%|          | 0/50 [00:00<?, ?it/s]"
      ]
     },
     "metadata": {}
    },
    {
     "output_type": "stream",
     "name": "stdout",
     "text": [
      "DONE\n"
     ]
    }
   ],
   "metadata": {}
  },
  {
   "cell_type": "markdown",
   "source": [
    "![](output/movie.gif)"
   ],
   "metadata": {}
  },
  {
   "cell_type": "code",
   "execution_count": 4,
   "source": [
    "# special masks\n",
    "sl.text_to_gif('MAC[MAC]', \n",
    "               repeat=True, \n",
    "               intensity=40, \n",
    "               rand=True, \n",
    "               gif_name='movie2', \n",
    "               n_frames=32, \n",
    "               bg_color='#ffb400',\n",
    "               marker='o', \n",
    "               marker_color='#2b2300', \n",
    "               marker_size=3, \n",
    "               fps=32,\n",
    "               alpha=0.7, \n",
    "               axis_on=False, \n",
    "               sort_coords=False, \n",
    "               sort_coords_asc=True,\n",
    "               hold_frames=20)"
   ],
   "outputs": [
    {
     "output_type": "display_data",
     "data": {
      "application/vnd.jupyter.widget-view+json": {
       "model_id": "a8b9b2295c77426ebc06dccd41f13399",
       "version_major": 2,
       "version_minor": 0
      },
      "text/plain": [
       "HBox(children=(HTML(value='Coordinates'), FloatProgress(value=0.0, max=8.0), HTML(value='')))"
      ]
     },
     "metadata": {}
    },
    {
     "output_type": "stream",
     "name": "stdout",
     "text": [
      "\n"
     ]
    },
    {
     "output_type": "display_data",
     "data": {
      "application/vnd.jupyter.widget-view+json": {
       "model_id": "157f0a6c36cb42c08c37bdf13d60c491",
       "version_major": 2,
       "version_minor": 0
      },
      "text/plain": [
       "HBox(children=(HTML(value='Plotting'), FloatProgress(value=0.0, max=4.0), HTML(value='')))"
      ]
     },
     "metadata": {}
    },
    {
     "output_type": "display_data",
     "data": {
      "application/vnd.jupyter.widget-view+json": {
       "model_id": "",
       "version_major": 2,
       "version_minor": 0
      },
      "text/plain": [
       "HBox(children=(HTML(value='Frames'), FloatProgress(value=0.0, max=33.0), HTML(value='')))"
      ]
     },
     "metadata": {}
    },
    {
     "output_type": "display_data",
     "data": {
      "application/vnd.jupyter.widget-view+json": {
       "model_id": "",
       "version_major": 2,
       "version_minor": 0
      },
      "text/plain": [
       "HBox(children=(HTML(value='Frames'), FloatProgress(value=0.0, max=33.0), HTML(value='')))"
      ]
     },
     "metadata": {}
    },
    {
     "output_type": "display_data",
     "data": {
      "application/vnd.jupyter.widget-view+json": {
       "model_id": "",
       "version_major": 2,
       "version_minor": 0
      },
      "text/plain": [
       "HBox(children=(HTML(value='Frames'), FloatProgress(value=0.0, max=33.0), HTML(value='')))"
      ]
     },
     "metadata": {}
    },
    {
     "output_type": "display_data",
     "data": {
      "application/vnd.jupyter.widget-view+json": {
       "model_id": "",
       "version_major": 2,
       "version_minor": 0
      },
      "text/plain": [
       "HBox(children=(HTML(value='Frames'), FloatProgress(value=0.0, max=33.0), HTML(value='')))"
      ]
     },
     "metadata": {}
    },
    {
     "output_type": "stream",
     "name": "stdout",
     "text": [
      "\n"
     ]
    },
    {
     "output_type": "display_data",
     "data": {
      "application/vnd.jupyter.widget-view+json": {
       "model_id": "8fdd9fd22aae4f0c9e53c1f5f1e441cf",
       "version_major": 2,
       "version_minor": 0
      },
      "text/plain": [
       "HBox(children=(HTML(value='Gif'), FloatProgress(value=0.0, max=232.0), HTML(value='')))"
      ]
     },
     "metadata": {}
    },
    {
     "output_type": "stream",
     "name": "stdout",
     "text": [
      "\n"
     ]
    },
    {
     "output_type": "display_data",
     "data": {
      "application/vnd.jupyter.widget-view+json": {
       "model_id": "24416e02cf4d418f9d286e3d1d68d70f",
       "version_major": 2,
       "version_minor": 0
      },
      "text/plain": [
       "HBox(children=(HTML(value='Removing Imgs'), FloatProgress(value=0.0, max=132.0), HTML(value='')))"
      ]
     },
     "metadata": {}
    },
    {
     "output_type": "stream",
     "name": "stdout",
     "text": [
      "\n",
      "DONE\n"
     ]
    }
   ],
   "metadata": {}
  },
  {
   "cell_type": "markdown",
   "source": [
    "![](output/movie2.gif)"
   ],
   "metadata": {}
  },
  {
   "cell_type": "code",
   "execution_count": 5,
   "source": [
    "sl.text_to_gif('RICK[RICK][RICK]', \n",
    "                repeat=True, \n",
    "                intensity=70,\n",
    "                gif_name = 'movie3', \n",
    "                n_frames=24, \n",
    "                bg_color='#53abee', \n",
    "                marker_color='#1D1D1D', \n",
    "                marker_size = 1,\n",
    "                fps=24,\n",
    "                alpha=0.3,\n",
    "                axis_on=False)"
   ],
   "outputs": [
    {
     "output_type": "display_data",
     "data": {
      "application/vnd.jupyter.widget-view+json": {
       "model_id": "cff27ed3492c4f539b94e5f2b8c0d3d0",
       "version_major": 2,
       "version_minor": 0
      },
      "text/plain": [
       "HBox(children=(HTML(value='Coordinates'), FloatProgress(value=0.0, max=16.0), HTML(value='')))"
      ]
     },
     "metadata": {}
    },
    {
     "output_type": "stream",
     "name": "stdout",
     "text": [
      "\n"
     ]
    },
    {
     "output_type": "display_data",
     "data": {
      "application/vnd.jupyter.widget-view+json": {
       "model_id": "ba444fa297eb4dc4907ef03a3a5ee07e",
       "version_major": 2,
       "version_minor": 0
      },
      "text/plain": [
       "HBox(children=(HTML(value='Plotting'), FloatProgress(value=0.0, max=6.0), HTML(value='')))"
      ]
     },
     "metadata": {}
    },
    {
     "output_type": "display_data",
     "data": {
      "application/vnd.jupyter.widget-view+json": {
       "model_id": "",
       "version_major": 2,
       "version_minor": 0
      },
      "text/plain": [
       "HBox(children=(HTML(value='Frames'), FloatProgress(value=0.0, max=25.0), HTML(value='')))"
      ]
     },
     "metadata": {}
    },
    {
     "output_type": "display_data",
     "data": {
      "application/vnd.jupyter.widget-view+json": {
       "model_id": "",
       "version_major": 2,
       "version_minor": 0
      },
      "text/plain": [
       "HBox(children=(HTML(value='Frames'), FloatProgress(value=0.0, max=25.0), HTML(value='')))"
      ]
     },
     "metadata": {}
    },
    {
     "output_type": "display_data",
     "data": {
      "application/vnd.jupyter.widget-view+json": {
       "model_id": "",
       "version_major": 2,
       "version_minor": 0
      },
      "text/plain": [
       "HBox(children=(HTML(value='Frames'), FloatProgress(value=0.0, max=25.0), HTML(value='')))"
      ]
     },
     "metadata": {}
    },
    {
     "output_type": "display_data",
     "data": {
      "application/vnd.jupyter.widget-view+json": {
       "model_id": "",
       "version_major": 2,
       "version_minor": 0
      },
      "text/plain": [
       "HBox(children=(HTML(value='Frames'), FloatProgress(value=0.0, max=25.0), HTML(value='')))"
      ]
     },
     "metadata": {}
    },
    {
     "output_type": "display_data",
     "data": {
      "application/vnd.jupyter.widget-view+json": {
       "model_id": "",
       "version_major": 2,
       "version_minor": 0
      },
      "text/plain": [
       "HBox(children=(HTML(value='Frames'), FloatProgress(value=0.0, max=25.0), HTML(value='')))"
      ]
     },
     "metadata": {}
    },
    {
     "output_type": "display_data",
     "data": {
      "application/vnd.jupyter.widget-view+json": {
       "model_id": "",
       "version_major": 2,
       "version_minor": 0
      },
      "text/plain": [
       "HBox(children=(HTML(value='Frames'), FloatProgress(value=0.0, max=25.0), HTML(value='')))"
      ]
     },
     "metadata": {}
    },
    {
     "output_type": "stream",
     "name": "stdout",
     "text": [
      "\n"
     ]
    },
    {
     "output_type": "display_data",
     "data": {
      "application/vnd.jupyter.widget-view+json": {
       "model_id": "f7e54032e15c4c9388faa5c5cd51881c",
       "version_major": 2,
       "version_minor": 0
      },
      "text/plain": [
       "HBox(children=(HTML(value='Gif'), FloatProgress(value=0.0, max=185.0), HTML(value='')))"
      ]
     },
     "metadata": {}
    },
    {
     "output_type": "stream",
     "name": "stdout",
     "text": [
      "\n"
     ]
    },
    {
     "output_type": "display_data",
     "data": {
      "application/vnd.jupyter.widget-view+json": {
       "model_id": "b2f458646ac5493cbd5310ceebd02850",
       "version_major": 2,
       "version_minor": 0
      },
      "text/plain": [
       "HBox(children=(HTML(value='Removing Imgs'), FloatProgress(value=0.0, max=150.0), HTML(value='')))"
      ]
     },
     "metadata": {}
    },
    {
     "output_type": "stream",
     "name": "stdout",
     "text": [
      "\n",
      "DONE\n"
     ]
    }
   ],
   "metadata": {}
  },
  {
   "cell_type": "markdown",
   "source": [
    "![](output/movie3.gif)"
   ],
   "metadata": {}
  },
  {
   "cell_type": "code",
   "execution_count": 6,
   "source": [
    "# not randomly positioned\n",
    "sl.text_to_gif('abc', intensity=5, rand=False, gif_name='not_rand')"
   ],
   "outputs": [
    {
     "output_type": "display_data",
     "data": {
      "application/vnd.jupyter.widget-view+json": {
       "model_id": "d43cd07f9ae24df99556c35c614d2ff3",
       "version_major": 2,
       "version_minor": 0
      },
      "text/plain": [
       "HBox(children=(HTML(value='Coordinates'), FloatProgress(value=0.0, max=3.0), HTML(value='')))"
      ]
     },
     "metadata": {}
    },
    {
     "output_type": "stream",
     "name": "stdout",
     "text": [
      "\n"
     ]
    },
    {
     "output_type": "display_data",
     "data": {
      "application/vnd.jupyter.widget-view+json": {
       "model_id": "b9cdaeeae31846d198a3f6a865f4dddc",
       "version_major": 2,
       "version_minor": 0
      },
      "text/plain": [
       "HBox(children=(HTML(value='Plotting'), FloatProgress(value=0.0, max=3.0), HTML(value='')))"
      ]
     },
     "metadata": {}
    },
    {
     "output_type": "display_data",
     "data": {
      "application/vnd.jupyter.widget-view+json": {
       "model_id": "",
       "version_major": 2,
       "version_minor": 0
      },
      "text/plain": [
       "HBox(children=(HTML(value='Frames'), FloatProgress(value=0.0, max=25.0), HTML(value='')))"
      ]
     },
     "metadata": {}
    },
    {
     "output_type": "display_data",
     "data": {
      "application/vnd.jupyter.widget-view+json": {
       "model_id": "",
       "version_major": 2,
       "version_minor": 0
      },
      "text/plain": [
       "HBox(children=(HTML(value='Frames'), FloatProgress(value=0.0, max=25.0), HTML(value='')))"
      ]
     },
     "metadata": {}
    },
    {
     "output_type": "display_data",
     "data": {
      "application/vnd.jupyter.widget-view+json": {
       "model_id": "",
       "version_major": 2,
       "version_minor": 0
      },
      "text/plain": [
       "HBox(children=(HTML(value='Frames'), FloatProgress(value=0.0, max=25.0), HTML(value='')))"
      ]
     },
     "metadata": {}
    },
    {
     "output_type": "stream",
     "name": "stdout",
     "text": [
      "\n"
     ]
    },
    {
     "output_type": "display_data",
     "data": {
      "application/vnd.jupyter.widget-view+json": {
       "model_id": "a07fc3d2146646afa7b1609145784d96",
       "version_major": 2,
       "version_minor": 0
      },
      "text/plain": [
       "HBox(children=(HTML(value='Gif'), FloatProgress(value=0.0, max=95.0), HTML(value='')))"
      ]
     },
     "metadata": {}
    },
    {
     "output_type": "stream",
     "name": "stdout",
     "text": [
      "\n"
     ]
    },
    {
     "output_type": "display_data",
     "data": {
      "application/vnd.jupyter.widget-view+json": {
       "model_id": "2f5f11165b7943479624c4fe32bf3137",
       "version_major": 2,
       "version_minor": 0
      },
      "text/plain": [
       "HBox(children=(HTML(value='Removing Imgs'), FloatProgress(value=0.0, max=75.0), HTML(value='')))"
      ]
     },
     "metadata": {}
    },
    {
     "output_type": "stream",
     "name": "stdout",
     "text": [
      "\n",
      "DONE\n"
     ]
    }
   ],
   "metadata": {}
  },
  {
   "cell_type": "markdown",
   "source": [
    "![](output/not_rand.gif)"
   ],
   "metadata": {}
  },
  {
   "cell_type": "code",
   "execution_count": 7,
   "source": [
    "# not randomly positioned and sorting points for transition\n",
    "sl.text_to_gif('abc', intensity=5, rand=False, gif_name='sorted', sort_coords='y', sort_coords_asc=True)"
   ],
   "outputs": [
    {
     "output_type": "display_data",
     "data": {
      "application/vnd.jupyter.widget-view+json": {
       "model_id": "eab2fadc0eb9451285fb2558d954692f",
       "version_major": 2,
       "version_minor": 0
      },
      "text/plain": [
       "HBox(children=(HTML(value='Coordinates'), FloatProgress(value=0.0, max=3.0), HTML(value='')))"
      ]
     },
     "metadata": {}
    },
    {
     "output_type": "stream",
     "name": "stdout",
     "text": [
      "\n"
     ]
    },
    {
     "output_type": "display_data",
     "data": {
      "application/vnd.jupyter.widget-view+json": {
       "model_id": "51d0fbeb3d074d0eacf054c4504aa019",
       "version_major": 2,
       "version_minor": 0
      },
      "text/plain": [
       "HBox(children=(HTML(value='Plotting'), FloatProgress(value=0.0, max=3.0), HTML(value='')))"
      ]
     },
     "metadata": {}
    },
    {
     "output_type": "display_data",
     "data": {
      "application/vnd.jupyter.widget-view+json": {
       "model_id": "",
       "version_major": 2,
       "version_minor": 0
      },
      "text/plain": [
       "HBox(children=(HTML(value='Frames'), FloatProgress(value=0.0, max=25.0), HTML(value='')))"
      ]
     },
     "metadata": {}
    },
    {
     "output_type": "display_data",
     "data": {
      "application/vnd.jupyter.widget-view+json": {
       "model_id": "",
       "version_major": 2,
       "version_minor": 0
      },
      "text/plain": [
       "HBox(children=(HTML(value='Frames'), FloatProgress(value=0.0, max=25.0), HTML(value='')))"
      ]
     },
     "metadata": {}
    },
    {
     "output_type": "display_data",
     "data": {
      "application/vnd.jupyter.widget-view+json": {
       "model_id": "",
       "version_major": 2,
       "version_minor": 0
      },
      "text/plain": [
       "HBox(children=(HTML(value='Frames'), FloatProgress(value=0.0, max=25.0), HTML(value='')))"
      ]
     },
     "metadata": {}
    },
    {
     "output_type": "stream",
     "name": "stdout",
     "text": [
      "\n"
     ]
    },
    {
     "output_type": "display_data",
     "data": {
      "application/vnd.jupyter.widget-view+json": {
       "model_id": "3c57a05dc2af441c9fb158ad0c77c649",
       "version_major": 2,
       "version_minor": 0
      },
      "text/plain": [
       "HBox(children=(HTML(value='Gif'), FloatProgress(value=0.0, max=95.0), HTML(value='')))"
      ]
     },
     "metadata": {}
    },
    {
     "output_type": "stream",
     "name": "stdout",
     "text": [
      "\n"
     ]
    },
    {
     "output_type": "display_data",
     "data": {
      "application/vnd.jupyter.widget-view+json": {
       "model_id": "ab0f04dc082e491c9ec1525da4e01c1f",
       "version_major": 2,
       "version_minor": 0
      },
      "text/plain": [
       "HBox(children=(HTML(value='Removing Imgs'), FloatProgress(value=0.0, max=75.0), HTML(value='')))"
      ]
     },
     "metadata": {}
    },
    {
     "output_type": "stream",
     "name": "stdout",
     "text": [
      "\n",
      "DONE\n"
     ]
    }
   ],
   "metadata": {}
  },
  {
   "cell_type": "markdown",
   "source": [
    "![](output/sorted.gif)"
   ],
   "metadata": {}
  },
  {
   "cell_type": "code",
   "execution_count": 15,
   "source": [
    "# The program works with three methods\n",
    "dir_name = \"/mnt/c/Users/monique/Documents/Codes/gifs/images/letters/\"\n",
    "# 1- get masked data: \n",
    "# generates the random points and apply a mask to it\n",
    "# if you don't pass a in_path the program uses a default dataframe with previously generated masks\n",
    "# those include all letters from A to Z and two special images 'RICK' and 'MAC'\n",
    "# If a in_path is passed the program will look in that directory for a.png file of 1000x1000 named as the first argument\n",
    "xy = sl.get_masked_data('a', in_path=dir_name)\n",
    "\n",
    "# creates two lists, x and y.\n",
    "print('lists: ', len(xy))\n",
    "print('size:', len(xy[0]))\n",
    "\n",
    "import matplotlib.pyplot as plt\n",
    "plt.scatter(xy[0], xy[1])\n",
    "plt.show()"
   ],
   "outputs": [
    {
     "output_type": "error",
     "ename": "ValueError",
     "evalue": "The truth value of an array with more than one element is ambiguous. Use a.any() or a.all()",
     "traceback": [
      "\u001b[0;31m---------------------------------------------------------------------------\u001b[0m",
      "\u001b[0;31mValueError\u001b[0m                                Traceback (most recent call last)",
      "\u001b[0;32m<ipython-input-15-0ed8e9dacb72>\u001b[0m in \u001b[0;36m<module>\u001b[0;34m\u001b[0m\n\u001b[1;32m      6\u001b[0m \u001b[0;31m# those include all letters from A to Z and two special images 'RICK' and 'MAC'\u001b[0m\u001b[0;34m\u001b[0m\u001b[0;34m\u001b[0m\u001b[0;34m\u001b[0m\u001b[0m\n\u001b[1;32m      7\u001b[0m \u001b[0;31m# If a in_path is passed the program will look in that directory for a.png file of 1000x1000 named as the first argument\u001b[0m\u001b[0;34m\u001b[0m\u001b[0;34m\u001b[0m\u001b[0;34m\u001b[0m\u001b[0m\n\u001b[0;32m----> 8\u001b[0;31m \u001b[0mxy\u001b[0m \u001b[0;34m=\u001b[0m \u001b[0msl\u001b[0m\u001b[0;34m.\u001b[0m\u001b[0mget_masked_data\u001b[0m\u001b[0;34m(\u001b[0m\u001b[0;34m'a'\u001b[0m\u001b[0;34m,\u001b[0m \u001b[0min_path\u001b[0m\u001b[0;34m=\u001b[0m\u001b[0mdir_name\u001b[0m\u001b[0;34m)\u001b[0m\u001b[0;34m\u001b[0m\u001b[0;34m\u001b[0m\u001b[0m\n\u001b[0m\u001b[1;32m      9\u001b[0m \u001b[0;34m\u001b[0m\u001b[0m\n\u001b[1;32m     10\u001b[0m \u001b[0;31m# creates two lists, x and y.\u001b[0m\u001b[0;34m\u001b[0m\u001b[0;34m\u001b[0m\u001b[0;34m\u001b[0m\u001b[0m\n",
      "\u001b[0;32m/mnt/c/Users/monique/Documents/Codes/gifs/scatter_letters/sl.py\u001b[0m in \u001b[0;36mget_masked_data\u001b[0;34m(letter, intensity, rand, in_path)\u001b[0m\n\u001b[1;32m    128\u001b[0m     \u001b[0;32mfor\u001b[0m \u001b[0mi\u001b[0m \u001b[0;32min\u001b[0m \u001b[0mrange\u001b[0m\u001b[0;34m(\u001b[0m\u001b[0mlen\u001b[0m\u001b[0;34m(\u001b[0m\u001b[0mx\u001b[0m\u001b[0;34m)\u001b[0m\u001b[0;34m)\u001b[0m\u001b[0;34m:\u001b[0m\u001b[0;34m\u001b[0m\u001b[0;34m\u001b[0m\u001b[0m\n\u001b[1;32m    129\u001b[0m         \u001b[0;32mif\u001b[0m \u001b[0mmask\u001b[0m\u001b[0;34m[\u001b[0m\u001b[0my\u001b[0m\u001b[0;34m[\u001b[0m\u001b[0mi\u001b[0m\u001b[0;34m]\u001b[0m\u001b[0;34m]\u001b[0m\u001b[0;34m[\u001b[0m\u001b[0mx\u001b[0m\u001b[0;34m[\u001b[0m\u001b[0mi\u001b[0m\u001b[0;34m]\u001b[0m\u001b[0;34m]\u001b[0m \u001b[0;34m==\u001b[0m \u001b[0;36m0\u001b[0m\u001b[0;34m:\u001b[0m\u001b[0;34m\u001b[0m\u001b[0;34m\u001b[0m\u001b[0m\n\u001b[0;32m--> 130\u001b[0;31m             \u001b[0mresult_x\u001b[0m\u001b[0;34m.\u001b[0m\u001b[0mappend\u001b[0m\u001b[0;34m(\u001b[0m\u001b[0mx\u001b[0m\u001b[0;34m[\u001b[0m\u001b[0mi\u001b[0m\u001b[0;34m]\u001b[0m\u001b[0;34m)\u001b[0m\u001b[0;34m\u001b[0m\u001b[0;34m\u001b[0m\u001b[0m\n\u001b[0m\u001b[1;32m    131\u001b[0m             \u001b[0mresult_y\u001b[0m\u001b[0;34m.\u001b[0m\u001b[0mappend\u001b[0m\u001b[0;34m(\u001b[0m\u001b[0my\u001b[0m\u001b[0;34m[\u001b[0m\u001b[0mi\u001b[0m\u001b[0;34m]\u001b[0m\u001b[0;34m)\u001b[0m\u001b[0;34m\u001b[0m\u001b[0;34m\u001b[0m\u001b[0m\n\u001b[1;32m    132\u001b[0m \u001b[0;34m\u001b[0m\u001b[0m\n",
      "\u001b[0;31mValueError\u001b[0m: The truth value of an array with more than one element is ambiguous. Use a.any() or a.all()"
     ]
    }
   ],
   "metadata": {}
  },
  {
   "cell_type": "code",
   "execution_count": 9,
   "source": [
    "# 2- text to data\n",
    "# receives string and split the letters to apply the previous method\n",
    "# to use special masks here you need to put the name of the mask or file between brackets - example '[RICK]'\n",
    "coords = sl.text_to_data('abc', repeat=True, intensity = 10, rand=True, in_path=None)\n",
    "\n",
    "# creates two lists, x and y.\n",
    "print(len(coords), 'lists, one for each letter and one for the repeated letter')\n",
    "print(len(coords[0]), 'lists inside each of the above for x and y')\n",
    "print('size:', len(coords[0][0]))"
   ],
   "outputs": [
    {
     "output_type": "display_data",
     "data": {
      "application/vnd.jupyter.widget-view+json": {
       "model_id": "f29ecefc28c647b18580663461ddc9c6",
       "version_major": 2,
       "version_minor": 0
      },
      "text/plain": [
       "HBox(children=(HTML(value='Coordinates'), FloatProgress(value=0.0, max=3.0), HTML(value='')))"
      ]
     },
     "metadata": {}
    },
    {
     "output_type": "stream",
     "name": "stdout",
     "text": [
      "\n",
      "4 lists, one for each letter and one for the repeated letter\n",
      "2 lists inside each of the above for x and y\n",
      "size: 1082\n"
     ]
    }
   ],
   "metadata": {}
  },
  {
   "cell_type": "code",
   "execution_count": 10,
   "source": [
    "# 3- build gif\n",
    "# Uses the coordinates lists generate in the previous method to plot the images and transitions, and create the gif\n",
    "sl.build_gif(coords, \n",
    "          out_path='output', gif_name = 'movie', n_frames=10, \n",
    "          bg_color='#95A4AD', marker='.', marker_color='#283F4E',\n",
    "          marker_size = 25, fps=4, alpha=1, axis_on=True,\n",
    "          sort_coords = False, sort_coords_asc=False, hold_frames=5)"
   ],
   "outputs": [
    {
     "output_type": "display_data",
     "data": {
      "application/vnd.jupyter.widget-view+json": {
       "model_id": "ac1aec27fb204e78b2b698bc9822b7c2",
       "version_major": 2,
       "version_minor": 0
      },
      "text/plain": [
       "HBox(children=(HTML(value='Plotting'), FloatProgress(value=0.0, max=3.0), HTML(value='')))"
      ]
     },
     "metadata": {}
    },
    {
     "output_type": "display_data",
     "data": {
      "application/vnd.jupyter.widget-view+json": {
       "model_id": "",
       "version_major": 2,
       "version_minor": 0
      },
      "text/plain": [
       "HBox(children=(HTML(value='Frames'), FloatProgress(value=0.0, max=11.0), HTML(value='')))"
      ]
     },
     "metadata": {}
    },
    {
     "output_type": "display_data",
     "data": {
      "application/vnd.jupyter.widget-view+json": {
       "model_id": "",
       "version_major": 2,
       "version_minor": 0
      },
      "text/plain": [
       "HBox(children=(HTML(value='Frames'), FloatProgress(value=0.0, max=11.0), HTML(value='')))"
      ]
     },
     "metadata": {}
    },
    {
     "output_type": "display_data",
     "data": {
      "application/vnd.jupyter.widget-view+json": {
       "model_id": "",
       "version_major": 2,
       "version_minor": 0
      },
      "text/plain": [
       "HBox(children=(HTML(value='Frames'), FloatProgress(value=0.0, max=11.0), HTML(value='')))"
      ]
     },
     "metadata": {}
    },
    {
     "output_type": "stream",
     "name": "stdout",
     "text": [
      "\n"
     ]
    },
    {
     "output_type": "display_data",
     "data": {
      "application/vnd.jupyter.widget-view+json": {
       "model_id": "703e1190635a4a3c8de3a654d89a602d",
       "version_major": 2,
       "version_minor": 0
      },
      "text/plain": [
       "HBox(children=(HTML(value='Gif'), FloatProgress(value=0.0, max=53.0), HTML(value='')))"
      ]
     },
     "metadata": {}
    },
    {
     "output_type": "stream",
     "name": "stdout",
     "text": [
      "\n"
     ]
    },
    {
     "output_type": "display_data",
     "data": {
      "application/vnd.jupyter.widget-view+json": {
       "model_id": "2c7d047c49a046c1810a61b95f12d101",
       "version_major": 2,
       "version_minor": 0
      },
      "text/plain": [
       "HBox(children=(HTML(value='Removing Imgs'), FloatProgress(value=0.0, max=33.0), HTML(value='')))"
      ]
     },
     "metadata": {}
    },
    {
     "output_type": "stream",
     "name": "stdout",
     "text": [
      "\n",
      "DONE\n"
     ]
    }
   ],
   "metadata": {}
  },
  {
   "cell_type": "code",
   "execution_count": null,
   "source": [],
   "outputs": [],
   "metadata": {}
  },
  {
   "cell_type": "code",
   "execution_count": 11,
   "source": [
    "import cv2\n",
    "from matplotlib import pyplot as plt\n",
    "letter = 'a'\n",
    "dir_name = \"/mnt/c/Users/monique/Documents/Codes/gifs/images/letters/\"\n",
    "title = letter.upper() + '.png'\n",
    "file_img = dir_name +  title\n",
    "#mask = cv2.imread(os.path.join(in_path, f'{letter.upper()}.png',0))\n",
    "mask = cv2.imread(file_img)\n",
    "mask = cv2.flip(mask, 0)\n",
    "plt.imshow(mask)"
   ],
   "outputs": [
    {
     "output_type": "execute_result",
     "data": {
      "text/plain": [
       "<matplotlib.image.AxesImage at 0x7f8c3c808be0>"
      ]
     },
     "metadata": {},
     "execution_count": 11
    },
    {
     "output_type": "display_data",
     "data": {
      "image/png": "[encoded data removed]",
      "text/plain": [
       "<Figure size 432x288 with 1 Axes>"
      ]
     },
     "metadata": {
      "needs_background": "light"
     }
    }
   ],
   "metadata": {}
  },
  {
   "cell_type": "code",
   "execution_count": 5,
   "source": [
    "import numpy as np\n",
    "import matplotlib.pyplot as plt\n",
    "import imageio\n",
    "import random\n",
    "import cv2\n",
    "import os\n",
    "import re\n",
    "import pandas as pd\n",
    "import math\n",
    "from collections import OrderedDict\n",
    "import gc\n",
    "\n",
    "def get_masked_data(letter, intensity, rand, in_path):\n",
    "    \"\"\"\n",
    "    Receives a 'letter', which is the name of a file at /images/letters\n",
    "    Convert the letter into a list of x coordinates \n",
    "    and a list of y coordinates to create the shape of that letter.\n",
    "    Don't require the mask to be a letter, it can also be used \n",
    "    with other 1000x1000 png images. \n",
    "    \n",
    "    letter:     A string with the name of the png file that contains a mask\n",
    "    intensity:  This needs some work. When randonly positioning the points\n",
    "                the intensity is how many times 500 points will be generated.\n",
    "                With evenly sparced points, it controls the distance between the\n",
    "                points.\n",
    "    rand: If true generates random points, if false generate evenly sparced points\n",
    "    \"\"\"\n",
    "    # get mask from image\n",
    "    if in_path:\n",
    "        file_img = letter.upper() + '.png'\n",
    "        mask = cv2.imread(os.path.join(in_path, file_img),0)\n",
    "        #mask = cv2.imread(file_img)\n",
    "        mask = cv2.flip(mask, 0)\n",
    "        #plt.imshow(mask)\n",
    "    else:\n",
    "        dir_path = os.path.dirname(os.path.realpath(__file__))\n",
    "        mask = pd.read_pickle(os.path.join(dir_path,'masks.pkl'))\n",
    "        mask = mask[mask['letter'] == letter.upper()]['mask'].values[0]\n",
    "    # fill a plot with random points\n",
    "    if rand:\n",
    "        random.seed(420)\n",
    "        x = []\n",
    "        y = []\n",
    "        \n",
    "        for i in range(intensity):\n",
    "            x = x + random.sample(range(0, 1000), 500)\n",
    "            y = y + random.sample(range(0, 1000), 500)\n",
    "\n",
    "    # fill a plot with evenly sparced points\n",
    "    else:\n",
    "        base = np.arange(0, 1000, intensity, dtype=int).tolist()\n",
    "        y = []\n",
    "        x = []\n",
    "\n",
    "        for i in base:\n",
    "            x_temp = [i]*len(base)\n",
    "            y_temp = base\n",
    "            x = x + x_temp\n",
    "            y = y + y_temp\n",
    "\n",
    "    # get only the coordinates inside the mask\n",
    "    result_x = []\n",
    "    result_y = []\n",
    "\n",
    "    for i in range(len(x)):\n",
    "        if mask[y[i]][x[i]] == 0:\n",
    "            result_x.append(x[i])\n",
    "            result_y.append(y[i])\n",
    "            \n",
    "    # return a list of x and y positions\n",
    "    return result_x, result_y\n",
    "\n",
    "# The program works with three methods\n",
    "img_str = 'logo'\n",
    "#pathin = 'images'\n",
    "#img_path = str(pathin)\n",
    "# 1- get masked data: \n",
    "# generates the random points and apply a mask to it\n",
    "# if you don't pass a in_path the program uses a default dataframe with previously generated masks\n",
    "# those include all letters from A to Z and two special images 'RICK' and 'MAC'\n",
    "# If a in_path is passed the program will look in that directory for a .png file of 1000x1000 named as the first argument\n",
    "xy = get_masked_data(img_str,\n",
    "                    intensity=20,\n",
    "                    rand=True,\n",
    "                    in_path='./images/letters')\n",
    "\n",
    "# creates two lists, x and y.\n",
    "print('lists: ', len(xy))\n",
    "print('size:', len(xy[0]))\n",
    "\n",
    "import matplotlib.pyplot as plt\n",
    "plt.scatter(xy[0], xy[1])\n",
    "plt.show()"
   ],
   "outputs": [
    {
     "output_type": "stream",
     "name": "stdout",
     "text": [
      "lists:  2\n",
      "size: 1262\n"
     ]
    },
    {
     "output_type": "display_data",
     "data": {
      "image/png": "[encoded data removed]",
      "text/plain": [
       "<Figure size 432x288 with 1 Axes>"
      ]
     },
     "metadata": {
      "needs_background": "light"
     }
    }
   ],
   "metadata": {}
  },
  {
   "cell_type": "code",
   "execution_count": 10,
   "source": [
    "# The program works with three methods\n",
    "img_str = 'logo'\n",
    "#pathin = 'images'\n",
    "#img_path = str(pathin)\n",
    "# 1- get masked data: \n",
    "# generates the random points and apply a mask to it\n",
    "# if you don't pass a in_path the program uses a default dataframe with previously generated masks\n",
    "# those include all letters from A to Z and two special images 'RICK' and 'MAC'\n",
    "# If a in_path is passed the program will look in that directory for a .png file of 1000x1000 named as the first argument\n",
    "xy = sl.get_masked_data(img_str, \n",
    "                        intensity=20, \n",
    "                        rand=True,\n",
    "                        in_path='./images/letters')\n",
    "\n",
    "# creates two lists, x and y.\n",
    "print('lists: ', len(xy))\n",
    "print('size:', len(xy[0]))\n",
    "plt.scatter(xy[0], xy[1])\n",
    "plt.show()"
   ],
   "outputs": [
    {
     "output_type": "stream",
     "name": "stdout",
     "text": [
      "lists:  2\n",
      "size: 1262\n"
     ]
    },
    {
     "output_type": "display_data",
     "data": {
      "image/png": "[encoded data removed]",
      "text/plain": [
       "<Figure size 432x288 with 1 Axes>"
      ]
     },
     "metadata": {
      "needs_background": "light"
     }
    }
   ],
   "metadata": {}
  },
  {
   "cell_type": "code",
   "execution_count": 14,
   "source": [
    "# all parameters\n",
    "sl.text_to_gif('_[LOGO]', # text to be converted to gif\n",
    "               out_path='output', # relative path to save temp files and output\n",
    "               repeat=True, # repeat first letter at the end\n",
    "               intensity=10, # more info below*\n",
    "               rand=True, # True=random points, false= evenly sparced\n",
    "               gif_name='movie', # name of the output file. -> movie.gif\n",
    "               n_frames=24, # number of frames in the transition\n",
    "               bg_color='#95A4AD', # background color\n",
    "               marker='o', # marker style\n",
    "               marker_color='#283F4E', # marker color \n",
    "               marker_size=10, # marker size\n",
    "               fps=24, # frames per second\n",
    "               alpha=1, # markers opacity\n",
    "               axis_on=True, # plot spines and grid\n",
    "               sort_coords=False, # sort points in the transition - options(False, 'x', 'y')\n",
    "               sort_coords_asc=True, # True - sort ascending / False - sort descending\n",
    "               in_path='./images/letters', # for custom input paths\n",
    "               hold_frames=5) # hold the complete letter for x frames\n",
    "\n",
    "# *intensity: \n",
    "# When plotting random points (rand=True), this is how many times it'll generate 500 points at the start (before applying the mask).\n",
    "# With randoms a higher intensity means more points.\n",
    "# When plotting evenly sparced points (rand=False), this is the distance between the points.\n",
    "# With even points a lower intensity means the points will be closer to each other, so more points are plotted."
   ],
   "outputs": [
    {
     "output_type": "display_data",
     "data": {
      "application/vnd.jupyter.widget-view+json": {
       "version_major": 2,
       "version_minor": 0,
       "model_id": "5df1302c09264666b1991af85efb6479"
      },
      "text/plain": [
       "Coordinates:   0%|          | 0/7 [00:00<?, ?it/s]"
      ]
     },
     "metadata": {}
    },
    {
     "output_type": "display_data",
     "data": {
      "application/vnd.jupyter.widget-view+json": {
       "version_major": 2,
       "version_minor": 0,
       "model_id": "73b622e1b1ef42278c00a336a38b99e5"
      },
      "text/plain": [
       "Plotting:   0%|          | 0/2 [00:00<?, ?it/s]"
      ]
     },
     "metadata": {}
    },
    {
     "output_type": "display_data",
     "data": {
      "application/vnd.jupyter.widget-view+json": {
       "version_major": 2,
       "version_minor": 0,
       "model_id": "7080ce6a44bc4fd1aae4f88258ae4914"
      },
      "text/plain": [
       "Frames:   0%|          | 0/25 [00:00<?, ?it/s]"
      ]
     },
     "metadata": {}
    },
    {
     "output_type": "display_data",
     "data": {
      "application/vnd.jupyter.widget-view+json": {
       "version_major": 2,
       "version_minor": 0,
       "model_id": "9ae033d7395a4d24a20efbd7b166b852"
      },
      "text/plain": [
       "Frames:   0%|          | 0/25 [00:00<?, ?it/s]"
      ]
     },
     "metadata": {}
    },
    {
     "output_type": "display_data",
     "data": {
      "application/vnd.jupyter.widget-view+json": {
       "version_major": 2,
       "version_minor": 0,
       "model_id": "583cb9b43335445ca925f13c25912475"
      },
      "text/plain": [
       "Gif:   0%|          | 0/65 [00:00<?, ?it/s]"
      ]
     },
     "metadata": {}
    },
    {
     "output_type": "display_data",
     "data": {
      "application/vnd.jupyter.widget-view+json": {
       "version_major": 2,
       "version_minor": 0,
       "model_id": "0f960b591fdd43e785b261dcce1836ed"
      },
      "text/plain": [
       "Removing Imgs:   0%|          | 0/50 [00:00<?, ?it/s]"
      ]
     },
     "metadata": {}
    },
    {
     "output_type": "stream",
     "name": "stdout",
     "text": [
      "DONE\n"
     ]
    }
   ],
   "metadata": {}
  },
  {
   "cell_type": "code",
   "execution_count": 28,
   "source": [
    "sl.text_to_gif('_[LOGO][MARCIO][PUC]', \n",
    "                out_path='output', # relative path to save temp files and output\n",
    "                repeat=True, \n",
    "                intensity=90,\n",
    "                rand=True, # True=random points, false= evenly sparced\n",
    "                gif_name = 'movie1', \n",
    "                n_frames=24, \n",
    "                bg_color='#53abee', \n",
    "                marker_color='#1D1D1D', \n",
    "                marker_size = 2,\n",
    "                marker='o', # marker style\n",
    "                fps=24,\n",
    "                alpha=0.7,\n",
    "                axis_on=True, # plot spines and grid\n",
    "                sort_coords=False, # sort points in the transition - options(False, 'x', 'y')\n",
    "                sort_coords_asc=True, # True - sort ascending / False - sort descending\n",
    "                in_path='./images/letters', # for custom input paths\n",
    "                hold_frames=40)"
   ],
   "outputs": [
    {
     "output_type": "display_data",
     "data": {
      "application/vnd.jupyter.widget-view+json": {
       "version_major": 2,
       "version_minor": 0,
       "model_id": "c7c5971e55ec4dc5b6a356ece8e33322"
      },
      "text/plain": [
       "Coordinates:   0%|          | 0/20 [00:00<?, ?it/s]"
      ]
     },
     "metadata": {}
    },
    {
     "output_type": "display_data",
     "data": {
      "application/vnd.jupyter.widget-view+json": {
       "version_major": 2,
       "version_minor": 0,
       "model_id": "f6a8036a926b45e1a806182f55d797c4"
      },
      "text/plain": [
       "Plotting:   0%|          | 0/4 [00:00<?, ?it/s]"
      ]
     },
     "metadata": {}
    },
    {
     "output_type": "display_data",
     "data": {
      "application/vnd.jupyter.widget-view+json": {
       "version_major": 2,
       "version_minor": 0,
       "model_id": "adca29bec04c4fac81923636da3c159d"
      },
      "text/plain": [
       "Frames:   0%|          | 0/25 [00:00<?, ?it/s]"
      ]
     },
     "metadata": {}
    },
    {
     "output_type": "display_data",
     "data": {
      "application/vnd.jupyter.widget-view+json": {
       "version_major": 2,
       "version_minor": 0,
       "model_id": "b1714d565c0844b68e173509895dd40f"
      },
      "text/plain": [
       "Frames:   0%|          | 0/25 [00:00<?, ?it/s]"
      ]
     },
     "metadata": {}
    },
    {
     "output_type": "display_data",
     "data": {
      "application/vnd.jupyter.widget-view+json": {
       "version_major": 2,
       "version_minor": 0,
       "model_id": "23af61767ae64d228fda9f4f54a5626b"
      },
      "text/plain": [
       "Frames:   0%|          | 0/25 [00:00<?, ?it/s]"
      ]
     },
     "metadata": {}
    },
    {
     "output_type": "display_data",
     "data": {
      "application/vnd.jupyter.widget-view+json": {
       "version_major": 2,
       "version_minor": 0,
       "model_id": "98a5a62e4ae947e2af7449a68c5eb1bd"
      },
      "text/plain": [
       "Frames:   0%|          | 0/25 [00:00<?, ?it/s]"
      ]
     },
     "metadata": {}
    },
    {
     "output_type": "display_data",
     "data": {
      "application/vnd.jupyter.widget-view+json": {
       "version_major": 2,
       "version_minor": 0,
       "model_id": "71f504aec23d4eada86d66c2b84e7da7"
      },
      "text/plain": [
       "Gif:   0%|          | 0/300 [00:00<?, ?it/s]"
      ]
     },
     "metadata": {}
    },
    {
     "output_type": "display_data",
     "data": {
      "application/vnd.jupyter.widget-view+json": {
       "version_major": 2,
       "version_minor": 0,
       "model_id": "047b17103a0f499e8cd4f05aeeab4c1a"
      },
      "text/plain": [
       "Removing Imgs:   0%|          | 0/100 [00:00<?, ?it/s]"
      ]
     },
     "metadata": {}
    },
    {
     "output_type": "stream",
     "name": "stdout",
     "text": [
      "DONE\n"
     ]
    }
   ],
   "metadata": {}
  },
  {
   "cell_type": "code",
   "execution_count": 21,
   "source": [
    "sl.text_to_gif('RICK[RICK][RICK]', \n",
    "                out_path='output', # relative path to save temp files and output\n",
    "                repeat=True, \n",
    "                intensity=70,\n",
    "                gif_name = 'movie3', \n",
    "                n_frames=24, \n",
    "                bg_color='#53abee', \n",
    "                marker_color='#1D1D1D', \n",
    "                marker_size = 1,\n",
    "                fps=24,\n",
    "                alpha=0.3,\n",
    "                in_path='./images/letters', # for custom input paths\n",
    "                axis_on=False)"
   ],
   "outputs": [
    {
     "output_type": "display_data",
     "data": {
      "application/vnd.jupyter.widget-view+json": {
       "version_major": 2,
       "version_minor": 0,
       "model_id": "ec5a43587af14bcc814dd7225b55a834"
      },
      "text/plain": [
       "Coordinates:   0%|          | 0/16 [00:00<?, ?it/s]"
      ]
     },
     "metadata": {}
    },
    {
     "output_type": "display_data",
     "data": {
      "application/vnd.jupyter.widget-view+json": {
       "version_major": 2,
       "version_minor": 0,
       "model_id": "6856ac8c6c7441fdb9c3d3d8a5bbd44f"
      },
      "text/plain": [
       "Plotting:   0%|          | 0/6 [00:00<?, ?it/s]"
      ]
     },
     "metadata": {}
    },
    {
     "output_type": "display_data",
     "data": {
      "application/vnd.jupyter.widget-view+json": {
       "version_major": 2,
       "version_minor": 0,
       "model_id": "ea5f3e734838448f859a5e8438f1bcf1"
      },
      "text/plain": [
       "Frames:   0%|          | 0/25 [00:00<?, ?it/s]"
      ]
     },
     "metadata": {}
    },
    {
     "output_type": "display_data",
     "data": {
      "application/vnd.jupyter.widget-view+json": {
       "version_major": 2,
       "version_minor": 0,
       "model_id": "3f1d9f9eb9f541bb8bd4de56f27207a1"
      },
      "text/plain": [
       "Frames:   0%|          | 0/25 [00:00<?, ?it/s]"
      ]
     },
     "metadata": {}
    },
    {
     "output_type": "display_data",
     "data": {
      "application/vnd.jupyter.widget-view+json": {
       "version_major": 2,
       "version_minor": 0,
       "model_id": "f6f2c38cf7504094928c8132702bd03e"
      },
      "text/plain": [
       "Frames:   0%|          | 0/25 [00:00<?, ?it/s]"
      ]
     },
     "metadata": {}
    },
    {
     "output_type": "display_data",
     "data": {
      "application/vnd.jupyter.widget-view+json": {
       "version_major": 2,
       "version_minor": 0,
       "model_id": "ddc9be0f2b0d423b9d3137eb8ffe39e9"
      },
      "text/plain": [
       "Frames:   0%|          | 0/25 [00:00<?, ?it/s]"
      ]
     },
     "metadata": {}
    },
    {
     "output_type": "display_data",
     "data": {
      "application/vnd.jupyter.widget-view+json": {
       "version_major": 2,
       "version_minor": 0,
       "model_id": "beab2770b66e4cf4bfe8928cac1fae9a"
      },
      "text/plain": [
       "Frames:   0%|          | 0/25 [00:00<?, ?it/s]"
      ]
     },
     "metadata": {}
    },
    {
     "output_type": "display_data",
     "data": {
      "application/vnd.jupyter.widget-view+json": {
       "version_major": 2,
       "version_minor": 0,
       "model_id": "9d13ff5c18bc493d9ad6157dd9b5098f"
      },
      "text/plain": [
       "Frames:   0%|          | 0/25 [00:00<?, ?it/s]"
      ]
     },
     "metadata": {}
    },
    {
     "output_type": "display_data",
     "data": {
      "application/vnd.jupyter.widget-view+json": {
       "version_major": 2,
       "version_minor": 0,
       "model_id": "764aa870bd594620a0efedc1ee18a46c"
      },
      "text/plain": [
       "Gif:   0%|          | 0/185 [00:00<?, ?it/s]"
      ]
     },
     "metadata": {}
    },
    {
     "output_type": "display_data",
     "data": {
      "application/vnd.jupyter.widget-view+json": {
       "version_major": 2,
       "version_minor": 0,
       "model_id": "62f61995965d42c686b7d9504c1a055d"
      },
      "text/plain": [
       "Removing Imgs:   0%|          | 0/150 [00:00<?, ?it/s]"
      ]
     },
     "metadata": {}
    },
    {
     "output_type": "stream",
     "name": "stdout",
     "text": [
      "DONE\n"
     ]
    }
   ],
   "metadata": {}
  }
 ],
 "metadata": {
  "kernelspec": {
   "name": "python3",
   "display_name": "Python 3.8.2 64-bit"
  },
  "language_info": {
   "codemirror_mode": {
    "name": "ipython",
    "version": 3
   },
   "file_extension": ".py",
   "mimetype": "text/x-python",
   "name": "python",
   "nbconvert_exporter": "python",
   "pygments_lexer": "ipython3",
   "version": "3.8.2"
  },
  "interpreter": {
   "hash": "916dbcbb3f70747c44a77c7bcd40155683ae19c65e1c03b4aa3499c5328201f1"
  }
 },
 "nbformat": 4,
 "nbformat_minor": 5
}